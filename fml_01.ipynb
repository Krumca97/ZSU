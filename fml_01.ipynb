{
  "cells": [
    {
      "cell_type": "markdown",
      "metadata": {
        "id": "EErgikq5jsjk",
        "jp-MarkdownHeadingCollapsed": true,
        "tags": []
      },
      "source": [
        "# Fundamentals of Machine Learning - Exercise 1\n",
        "The aim of the exercise is to get an overview of the basic capabilities of the Pandas, Matplotlib and Seaborn libraries and be able to setup a Python Virtual Enviroment (`venv`)\n",
        "\n",
        "**Jupyter lab**\n",
        "\n",
        "* Add code\n",
        "* Add text\n",
        "* Execute command\n",
        "* Shortcuts (a, b, dd, Ctrl+Enter, Shift+Enter, x, c, v)\n",
        "\n",
        "**Alternatives**\n",
        "\n",
        "* Google Colab ([Colaboratory](https://colab.research.google.com/))\n",
        "* Python scripts in VS Code\n",
        "\n",
        "\"![meme01](https://github.com/rasvob/VSB-FEI-Fundamentals-of-Machine-Learning-Exercises/blob/master/images/fml_01_meme_01.png?raw=true)"
      ]
    },
    {
      "cell_type": "markdown",
      "metadata": {
        "id": "l9hHDMhFjshW",
        "tags": []
      },
      "source": [
        "# Data processing\n",
        "\n",
        "Data source: https://www.kaggle.com/c/house-prices-advanced-regression-techniques/data\n",
        "\n",
        "Important attributes description:\n",
        "* SalePrice: The property's sale price in dollars. This is the target variable that you're trying to predict.\n",
        "* MSSubClass: The building class\n",
        "* BldgType: Type of dwelling\n",
        "* HouseStyle: Style of dwelling\n",
        "* OverallQual: Overall material and finish quality\n",
        "* OverallCond: Overall condition rating\n",
        "* YearBuilt: Original construction date\n",
        "* Heating: Type of heating\n",
        "* CentralAir: Central air conditioning\n",
        "* GrLivArea: Above grade (ground) living area square feet\n",
        "* BedroomAbvGr: Number of bedrooms above basement level"
      ]
    },
    {
      "cell_type": "markdown",
      "metadata": {
        "tags": [],
        "id": "p-T5a4iYtNT2"
      },
      "source": [
        "## Import used packages"
      ]
    },
    {
      "cell_type": "code",
      "execution_count": 3,
      "metadata": {
        "id": "FVFwXLhL75FZ"
      },
      "outputs": [],
      "source": [
        "import pandas as pd # dataframes\n",
        "import numpy as np # matrices and linear algebra\n",
        "import matplotlib.pyplot as plt # plotting\n",
        "import seaborn as sns # another matplotlib interface - styled and easier to use"
      ]
    },
    {
      "cell_type": "markdown",
      "metadata": {
        "id": "TgZdP1g1tNT3"
      },
      "source": [
        "## The first step is to load the data into the Pandas DataFrame - in our case it is a csv file\n",
        "* https://raw.githubusercontent.com/rasvob/VSB-FEI-Fundamentals-of-Machine-Learning-Exercises/master/datasets/zsu_cv1_data.csv"
      ]
    },
    {
      "cell_type": "code",
      "execution_count": 4,
      "metadata": {
        "id": "x5rA_RurtNT3"
      },
      "outputs": [],
      "source": [
        "df = pd.read_csv(\"https://raw.githubusercontent.com/rasvob/VSB-FEI-Fundamentals-of-Machine-Learning-Exercises/master/datasets/zsu_cv1_data.csv\")"
      ]
    },
    {
      "cell_type": "markdown",
      "metadata": {
        "id": "dtcP4nbjtNT3"
      },
      "source": [
        "## We shloud take a look on the data after loading so we know that everything is OK"
      ]
    },
    {
      "cell_type": "markdown",
      "metadata": {
        "jp-MarkdownHeadingCollapsed": true,
        "tags": [],
        "id": "r7GNVo7HtNT3"
      },
      "source": [
        "### We will start with showing first/last N rows\n",
        "- There are several ways of doing that:\n",
        "    - name of the dataframe\n",
        "    - head()\n",
        "    - tail()"
      ]
    },
    {
      "cell_type": "markdown",
      "metadata": {
        "id": "D83kXV44tNT4"
      },
      "source": [
        "### Show 5 first and last rows"
      ]
    },
    {
      "cell_type": "code",
      "execution_count": null,
      "metadata": {
        "id": "AyLb-kgztNT4"
      },
      "outputs": [],
      "source": []
    },
    {
      "cell_type": "markdown",
      "metadata": {
        "tags": [],
        "id": "98Wk6APGtNT4"
      },
      "source": [
        "### Show first 5 rows"
      ]
    },
    {
      "cell_type": "code",
      "execution_count": null,
      "metadata": {
        "id": "J9vFY-x6tNT4"
      },
      "outputs": [],
      "source": []
    },
    {
      "cell_type": "markdown",
      "metadata": {
        "tags": [],
        "id": "p7fblnDttNT4"
      },
      "source": [
        "### Show last 20 rows"
      ]
    },
    {
      "cell_type": "code",
      "execution_count": null,
      "metadata": {
        "id": "lnA3hsqstNT5"
      },
      "outputs": [],
      "source": [
        "df_full.tail(20)"
      ]
    },
    {
      "cell_type": "markdown",
      "metadata": {
        "id": "d-DC6QV7tNT5"
      },
      "source": [
        "## If we want to know if there are any missing values, the isna() function may render useful"
      ]
    },
    {
      "cell_type": "code",
      "execution_count": null,
      "metadata": {
        "id": "d1GDci3QtNT5"
      },
      "outputs": [],
      "source": []
    },
    {
      "cell_type": "markdown",
      "metadata": {
        "id": "Th68MPdUtNT5"
      },
      "source": [
        "## We can show summary of common statistical characteristic of the data using the describe() function"
      ]
    },
    {
      "cell_type": "code",
      "execution_count": null,
      "metadata": {
        "id": "Uu5oQyo0tNT5"
      },
      "outputs": [],
      "source": []
    },
    {
      "cell_type": "markdown",
      "metadata": {
        "tags": [],
        "id": "pAVBYNlLtNT5"
      },
      "source": [
        "## 💡 Dataframe has several useful properties\n",
        "    - shape\n",
        "    - dtypes\n",
        "    - columns\n",
        "    - index"
      ]
    },
    {
      "cell_type": "markdown",
      "metadata": {
        "id": "mt3QChI_tNT5"
      },
      "source": [
        "#### Row and column count"
      ]
    },
    {
      "cell_type": "code",
      "execution_count": null,
      "metadata": {
        "id": "jSWfaOeWtNT5"
      },
      "outputs": [],
      "source": []
    },
    {
      "cell_type": "markdown",
      "metadata": {
        "id": "yudcct-ItNT6"
      },
      "source": [
        "#### Datatypes of columns"
      ]
    },
    {
      "cell_type": "code",
      "execution_count": null,
      "metadata": {
        "id": "O1QKtb2stNT6"
      },
      "outputs": [],
      "source": []
    },
    {
      "cell_type": "markdown",
      "metadata": {
        "id": "Zmjphp3KtNT6"
      },
      "source": [
        "#### Column names"
      ]
    },
    {
      "cell_type": "code",
      "execution_count": null,
      "metadata": {
        "id": "bxvT8A8WtNT6"
      },
      "outputs": [],
      "source": []
    },
    {
      "cell_type": "markdown",
      "metadata": {
        "id": "_OrSQgcotNT6"
      },
      "source": [
        "#### Row index values"
      ]
    },
    {
      "cell_type": "code",
      "execution_count": null,
      "metadata": {
        "id": "Uug8v7dwtNT6"
      },
      "outputs": [],
      "source": []
    },
    {
      "cell_type": "markdown",
      "metadata": {
        "id": "rqRtOwnCtNT6"
      },
      "source": [
        "## We may want to work with just one column not the whole dataframe\n",
        "- We will select only the SalePrice columns and save it to another variable"
      ]
    },
    {
      "cell_type": "code",
      "execution_count": null,
      "metadata": {
        "id": "VZ3uabCotNT6"
      },
      "outputs": [],
      "source": []
    },
    {
      "cell_type": "markdown",
      "metadata": {
        "id": "YrzI8nNUtNT6"
      },
      "source": [
        "## Columns are called Pandas Series - it shares a common API with Pandas DataFrame\n",
        "- 💡 Pandas is numpy-backed so we can use Series as standard numpy arrays without any issues using the .values property"
      ]
    },
    {
      "cell_type": "code",
      "execution_count": null,
      "metadata": {
        "id": "l7VvKuPHtNT6"
      },
      "outputs": [],
      "source": []
    },
    {
      "cell_type": "markdown",
      "metadata": {
        "id": "25uJDx9btNT6"
      },
      "source": [
        "## Find maximum price using Numpy and Pandas"
      ]
    },
    {
      "cell_type": "code",
      "execution_count": null,
      "metadata": {
        "id": "yKFsHIT1tNT6"
      },
      "outputs": [],
      "source": []
    },
    {
      "cell_type": "code",
      "execution_count": null,
      "metadata": {
        "id": "I0ml8IRVtNT6"
      },
      "outputs": [],
      "source": []
    },
    {
      "cell_type": "markdown",
      "metadata": {
        "tags": [],
        "id": "7FUqhlBAtNT6"
      },
      "source": [
        "## Data filtering using Pandas DataFrame\n",
        "- There are several ways of filtering the data (similar logic to .Where() in C# or WHERE in SQL)\n",
        "- 💡 We usually work with two indexers - .loc[] and .iloc[]\n",
        "\n",
        "### The .iloc[] indexer works with positional indexes - very close to the way of working with the raw arrays\n",
        "### The .loc[] indexer works with column names and logical expressions"
      ]
    },
    {
      "cell_type": "markdown",
      "metadata": {
        "tags": [],
        "id": "enxHTDmqtNT7"
      },
      "source": [
        "### Select all rows and 3rd column of dataframe"
      ]
    },
    {
      "cell_type": "code",
      "execution_count": null,
      "metadata": {
        "id": "immOQG5ztNT7"
      },
      "outputs": [],
      "source": []
    },
    {
      "cell_type": "markdown",
      "metadata": {
        "tags": [],
        "id": "CvmuCyrstNT7"
      },
      "source": [
        "### Select all rows and LAST column of dataframe"
      ]
    },
    {
      "cell_type": "code",
      "execution_count": null,
      "metadata": {
        "id": "75w9wTp_tNT7"
      },
      "outputs": [],
      "source": []
    },
    {
      "cell_type": "markdown",
      "metadata": {
        "id": "-FS8WlJ4tNT7"
      },
      "source": [
        "### Select 4th to 10th row and all columns"
      ]
    },
    {
      "cell_type": "code",
      "execution_count": null,
      "metadata": {
        "id": "bLlVtQCmtNT7"
      },
      "outputs": [],
      "source": []
    },
    {
      "cell_type": "markdown",
      "metadata": {
        "tags": [],
        "id": "c-nDcgGYtNT7"
      },
      "source": [
        "### Select 2nd to 13th row and 3rd column"
      ]
    },
    {
      "cell_type": "code",
      "execution_count": null,
      "metadata": {
        "id": "vVF-sDq8tNT7"
      },
      "outputs": [],
      "source": []
    },
    {
      "cell_type": "markdown",
      "metadata": {
        "id": "uBV8udk4tNT7"
      },
      "source": [
        "## Select only a subset of columns to a new dataframe\n",
        "* 'Id', 'SalePrice','MSSubClass','BldgType','HouseStyle','OverallQual','OverallCond','YearBuilt','Heating','CentralAir','GrLivArea','BedroomAbvGr'"
      ]
    },
    {
      "cell_type": "code",
      "execution_count": null,
      "metadata": {
        "id": "7jdTgDXntNT7"
      },
      "outputs": [],
      "source": [
        "df = df_full.loc[:, ['Id', 'SalePrice','MSSubClass','BldgType','HouseStyle','OverallQual','OverallCond','YearBuilt','Heating','CentralAir','GrLivArea','BedroomAbvGr']].copy()\n",
        "df.head()"
      ]
    },
    {
      "cell_type": "markdown",
      "metadata": {
        "id": "kJeJYOm6tNT7"
      },
      "source": [
        "### Select only houses built in year 2000 or later\n",
        "* YearBuilt"
      ]
    },
    {
      "cell_type": "code",
      "execution_count": null,
      "metadata": {
        "id": "gcQUKYABtNT7"
      },
      "outputs": [],
      "source": []
    },
    {
      "cell_type": "markdown",
      "metadata": {
        "id": "L5C_egNVtNT7"
      },
      "source": [
        "### Select only houses that don't use GasA for heating (!= or ~ operators)\n",
        "* Heating"
      ]
    },
    {
      "cell_type": "code",
      "execution_count": null,
      "metadata": {
        "id": "UC3C4fgdtNT7"
      },
      "outputs": [],
      "source": []
    },
    {
      "cell_type": "markdown",
      "metadata": {
        "tags": [],
        "id": "Pg3wj_xwtNT7"
      },
      "source": [
        "### Select houses cheaper than 180k USD and with at least 2 bedrooms\n",
        "* SalePrice, BedroomAbvGr"
      ]
    },
    {
      "cell_type": "code",
      "execution_count": null,
      "metadata": {
        "id": "HzdAMj-stNT7"
      },
      "outputs": [],
      "source": []
    },
    {
      "cell_type": "markdown",
      "metadata": {
        "id": "xXHoiV30tNT7"
      },
      "source": [
        "### Select houses with 2 stories or air conditioning\n",
        "* HouseStyle, CentralAir"
      ]
    },
    {
      "cell_type": "code",
      "execution_count": null,
      "metadata": {
        "id": "hv_82KRhtNT7"
      },
      "outputs": [],
      "source": []
    },
    {
      "cell_type": "markdown",
      "metadata": {
        "tags": [],
        "id": "50GCA_WvtNT7"
      },
      "source": [
        "# We can add new columns to the DataFrame as well\n",
        "\n",
        "![meme01](https://github.com/rasvob/VSB-FEI-Fundamentals-of-Machine-Learning-Exercises/blob/master/images/fml_01_meme_02.png?raw=true)"
      ]
    },
    {
      "cell_type": "markdown",
      "metadata": {
        "id": "gL-5EL-QtNT7"
      },
      "source": [
        "### Add a new column named Age for each house (current year - year built)\n",
        "* YearBuilt"
      ]
    },
    {
      "cell_type": "code",
      "execution_count": null,
      "metadata": {
        "id": "CiLTP0QptNT7"
      },
      "outputs": [],
      "source": []
    },
    {
      "cell_type": "markdown",
      "metadata": {
        "tags": [],
        "id": "7HOuc_9etNT8"
      },
      "source": [
        "### Add a new column IsLuxury with True value for houses with more than 3 bedrooms and price above 214k USD (.loc)\n",
        "- How many luxury houses are in the dataset?\n",
        "- SalePrice, BedroomAbvGr"
      ]
    },
    {
      "cell_type": "code",
      "execution_count": null,
      "metadata": {
        "id": "rW2Qp3oWtNT8"
      },
      "outputs": [],
      "source": []
    },
    {
      "cell_type": "markdown",
      "metadata": {
        "tags": [],
        "id": "z2uFF65XtNT8"
      },
      "source": [
        "## Pandas enables us to use aggregation functions for the data using the .groupby() function"
      ]
    },
    {
      "cell_type": "markdown",
      "metadata": {
        "id": "TCmqx88TtNT8"
      },
      "source": [
        "### Compute counts for all the heating methods (groupby / value_counts)\n",
        "* Heating"
      ]
    },
    {
      "cell_type": "code",
      "execution_count": null,
      "metadata": {
        "id": "EfR6m78htNT8"
      },
      "outputs": [],
      "source": []
    },
    {
      "cell_type": "code",
      "execution_count": null,
      "metadata": {
        "id": "SlbNwiGmtNT8"
      },
      "outputs": [],
      "source": []
    },
    {
      "cell_type": "markdown",
      "metadata": {
        "id": "aAE33I3Tjse0",
        "tags": []
      },
      "source": [
        "# Visualization"
      ]
    },
    {
      "cell_type": "markdown",
      "metadata": {
        "id": "NcwzgU4oAQGF"
      },
      "source": [
        "## Scatter plot\n",
        "- Visualize relationship between SalePrice and GrLivArea.\n",
        "- Use scatter plot from **Matplotlib**."
      ]
    },
    {
      "cell_type": "code",
      "execution_count": null,
      "metadata": {
        "id": "gHmSh07_ANdA"
      },
      "outputs": [],
      "source": []
    },
    {
      "cell_type": "markdown",
      "metadata": {
        "id": "i5snPTU2SUww",
        "tags": []
      },
      "source": [
        "### Modify figure size and add title"
      ]
    },
    {
      "cell_type": "code",
      "execution_count": null,
      "metadata": {
        "id": "m-iXZtpDLZD8"
      },
      "outputs": [],
      "source": []
    },
    {
      "cell_type": "markdown",
      "metadata": {
        "id": "uh1KH9eRSeni"
      },
      "source": [
        "### Add axis labels"
      ]
    },
    {
      "cell_type": "code",
      "execution_count": null,
      "metadata": {
        "id": "2-AYvW09Rwbh"
      },
      "outputs": [],
      "source": []
    },
    {
      "cell_type": "markdown",
      "metadata": {
        "id": "eQIMbATySmSj"
      },
      "source": [
        "### Add colors for data points based on CentralAir value."
      ]
    },
    {
      "cell_type": "code",
      "execution_count": null,
      "metadata": {
        "id": "kk7EzHSMSneC"
      },
      "outputs": [],
      "source": []
    },
    {
      "cell_type": "markdown",
      "metadata": {
        "id": "ykYT_tiXRNAJ"
      },
      "source": [
        "## Try to use scatterplot from **Seaborn** library for scatter plot visualization."
      ]
    },
    {
      "cell_type": "markdown",
      "metadata": {
        "id": "1W19iJEptNT9"
      },
      "source": [
        "#### Use dataframe as source and column names for axes data"
      ]
    },
    {
      "cell_type": "code",
      "execution_count": null,
      "metadata": {
        "id": "ZrR0mwqoRK1_"
      },
      "outputs": [],
      "source": []
    },
    {
      "cell_type": "markdown",
      "metadata": {
        "id": "olhCvLhltNT9"
      },
      "source": [
        "### Resize plot and add color for markers based on CentralAir column"
      ]
    },
    {
      "cell_type": "code",
      "execution_count": null,
      "metadata": {
        "id": "4rAYREWlRYRN"
      },
      "outputs": [],
      "source": []
    },
    {
      "cell_type": "markdown",
      "metadata": {
        "id": "dT1O29MDVUEE"
      },
      "source": [
        "## Line plot\n",
        "- Calculate and vizualize average house price in relationship to YearBuild."
      ]
    },
    {
      "cell_type": "code",
      "execution_count": null,
      "metadata": {
        "id": "M_pFtbhsVC2Q"
      },
      "outputs": [],
      "source": []
    },
    {
      "cell_type": "code",
      "execution_count": null,
      "metadata": {
        "id": "bfXtmkA6Whdm"
      },
      "outputs": [],
      "source": []
    },
    {
      "cell_type": "markdown",
      "metadata": {
        "id": "VH2TGgm7XL6i"
      },
      "source": [
        "## Bar plot\n",
        "- Calculate and vizualize how many of houses have CentralAir\n",
        "- Use Barplot for visualization"
      ]
    },
    {
      "cell_type": "code",
      "execution_count": null,
      "metadata": {
        "id": "N-luAVWBb1Yt"
      },
      "outputs": [],
      "source": []
    },
    {
      "cell_type": "code",
      "execution_count": null,
      "metadata": {
        "id": "2rKj7QEicmWX"
      },
      "outputs": [],
      "source": []
    },
    {
      "cell_type": "markdown",
      "metadata": {
        "id": "SSkKDFEfb1Ql"
      },
      "source": [
        "### Vizualize number of building type and if they contains air conditioning using Seaborn"
      ]
    },
    {
      "cell_type": "code",
      "execution_count": null,
      "metadata": {
        "id": "RRRhPAvCc52Q"
      },
      "outputs": [],
      "source": []
    },
    {
      "cell_type": "code",
      "execution_count": null,
      "metadata": {
        "id": "pnpFAPXPb1HO"
      },
      "outputs": [],
      "source": []
    },
    {
      "cell_type": "markdown",
      "metadata": {
        "tags": [],
        "id": "1V7ZbdBjtNT-"
      },
      "source": [
        "# Tasks\n",
        "## ✅ Pandas (1 pt)\n",
        "* Add a new column *Undervalued* which is set to True in case that the house is priced bellow 163k USD and has both OverallQual and OverallCond higher than 5.\n",
        "\n",
        "* **How many undervalued houses are in the dataset?**\n",
        "\n",
        "## ✅ Vizualization (1 pt)\n",
        "* Add to dataframe new attribute determining if the house was build before or after year 2000.\n",
        "\n",
        "* **Create bar chart for number of houses depending on type of dwelling (attribute BldgType, use as a category axis) and added binary attribute about house age (use as a bar color).**"
      ]
    },
    {
      "cell_type": "code",
      "source": [
        "#pandas\n",
        "#1.ukol\n",
        "df[\"Undervalued\"] = ((df[\"SalePrice\"] < 163000) & (df[\"OverallQual\"] > 5) & (df[\"OverallCond\"] > 5))\n",
        "df[\"Undervalued\"].sum()\n"
      ],
      "metadata": {
        "id": "Kzo09PqNtVeW",
        "outputId": "4fded149-0495-48f9-df3e-c7e5c5218021",
        "colab": {
          "base_uri": "https://localhost:8080/"
        }
      },
      "execution_count": 5,
      "outputs": [
        {
          "output_type": "execute_result",
          "data": {
            "text/plain": [
              "np.int64(120)"
            ]
          },
          "metadata": {},
          "execution_count": 5
        }
      ]
    },
    {
      "cell_type": "code",
      "source": [
        "#Vizualization\n",
        "#2.ukol\n",
        "\n",
        "df[\"HouseBuiltBeforeOrIn2000\"] = df[\"YearBuilt\"] <= 2000\n",
        "ax = sns.countplot(data=df, x=\"BldgType\", hue=\"HouseBuildBeforeOrIn2000\")\n",
        "ax.set_title(\"Houses built before or in year 2000\")\n",
        "ax.set_xlabel(\"BldgType\")\n",
        "ax.set_ylabel(\"Count\")\n",
        "plt.tight_layout()\n",
        "plt.show()\n",
        "\n"
      ],
      "metadata": {
        "id": "qpc17NDywdEY",
        "outputId": "7fbfc9ba-78f2-4eb1-917c-ec7764d262ff",
        "colab": {
          "base_uri": "https://localhost:8080/",
          "height": 487
        }
      },
      "execution_count": 9,
      "outputs": [
        {
          "output_type": "display_data",
          "data": {
            "text/plain": [
              "<Figure size 640x480 with 1 Axes>"
            ],
            "image/png": "[encoded data removed]"
          },
          "metadata": {}
        }
      ]
    }
  ],
  "metadata": {
    "colab": {
      "name": "ZSU_cv1_introduction_jupyter_pandas_visualization.ipynb",
      "provenance": []
    },
    "kernelspec": {
      "display_name": "Python 3",
      "language": "python",
      "name": "python3"
    },
    "language_info": {
      "codemirror_mode": {
        "name": "ipython",
        "version": 3
      },
      "file_extension": ".py",
      "mimetype": "text/x-python",
      "name": "python",
      "nbconvert_exporter": "python",
      "pygments_lexer": "ipython3",
      "version": "3.7.4"
    }
  },
  "nbformat": 4,
  "nbformat_minor": 0
}